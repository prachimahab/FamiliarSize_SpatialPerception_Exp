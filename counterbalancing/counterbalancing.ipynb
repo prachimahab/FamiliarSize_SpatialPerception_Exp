{
 "cells": [
  {
   "cell_type": "markdown",
   "metadata": {},
   "source": [
    "# Make counterbalanced sequences"
   ]
  },
  {
   "cell_type": "code",
   "execution_count": 1,
   "metadata": {},
   "outputs": [],
   "source": [
    "import itertools\n",
    "import numpy as np\n",
    "import json \n",
    "import os\n",
    "import random\n",
    "import copy"
   ]
  },
  {
   "cell_type": "code",
   "execution_count": 2,
   "metadata": {},
   "outputs": [],
   "source": [
    "def generate_latin_square(size):\n",
    "    latin_square = [[0] * size for _ in range(size)]\n",
    "    \n",
    "    for row in range(size):\n",
    "        for col in range(size):\n",
    "            latin_square[row][col] = (row + col) % size + 1\n",
    "    \n",
    "    return latin_square\n",
    "\n",
    "def print_latin_square(square):\n",
    "    for row in square:\n",
    "        print(row)\n",
    "\n",
    "# Specify the size of the Latin square\n",
    "size = 54  # Change this to the desired size\n",
    "\n",
    "# Generate and print the Latin square\n",
    "latin_square = generate_latin_square(size)\n",
    "# print_latin_square(latin_square)"
   ]
  },
  {
   "cell_type": "code",
   "execution_count": null,
   "metadata": {},
   "outputs": [],
   "source": []
  },
  {
   "cell_type": "code",
   "execution_count": 3,
   "metadata": {},
   "outputs": [
    {
     "name": "stdout",
     "output_type": "stream",
     "text": [
      "27\n",
      "0.75: 13.0\n",
      "1: 13.0\n",
      "1.3: 13.0\n"
     ]
    }
   ],
   "source": [
    "# blocks\n",
    "block_v0 = [0.75, 1, 1.3, 1, 0.75, 1.3, 1.3, 1, 0.75] \n",
    "block_v1 = [1, 1.3, 0.75, 1.3, 1, 0.75, 0.75, 1.3, 1] \n",
    "block_v2 = [1.3, 0.75, 1, 0.75, 1.3, 1, 1, 0.75, 1.3] \n",
    "\n",
    "seq = block_v0 + block_v1 + block_v2\n",
    "print(len(seq))\n",
    "\n",
    "position = {0.75: [], 1: [], 1.3: []}\n",
    "for i in range(len(seq)):\n",
    "    position[seq[i]].append(i)\n",
    "    \n",
    "    \n",
    "for key in position:\n",
    "    print(str(key) + ': ' +  str(np.mean(np.array(position[key]))))"
   ]
  },
  {
   "cell_type": "code",
   "execution_count": 4,
   "metadata": {},
   "outputs": [
    {
     "name": "stdout",
     "output_type": "stream",
     "text": [
      "54\n"
     ]
    }
   ],
   "source": [
    "# block orders:\n",
    "# 1. 0 1 2 1 2 0\n",
    "# 2. 2 0 1 0 1 2\n",
    "# 3. 1 2 0 2 0 1\n",
    "\n",
    "# the first three and last three are latin square counterbalanced across the three orders \n",
    "# i.e. ([0,1,2], [2, 0, 1], [1, 2, 0])\n",
    "\n",
    "order_0 = block_v0 + block_v1 + block_v2 + block_v1 + block_v2 + block_v0\n",
    "order_1 = block_v2 + block_v0 + block_v1 + block_v0 + block_v1 + block_v2\n",
    "order_2 = block_v1 + block_v2 + block_v0 + block_v2 + block_v0 + block_v1\n",
    "\n",
    "print(len(order_0))\n",
    "\n",
    "orders = [order_0, order_1, order_2]\n",
    "\n",
    "# each row of the latin square will be presented in each of these orders \n"
   ]
  },
  {
   "cell_type": "code",
   "execution_count": 5,
   "metadata": {},
   "outputs": [
    {
     "name": "stdout",
     "output_type": "stream",
     "text": [
      "['s0', 's1', 's2', 's3', 's4', 's5', 's6', 's7', 's8', 's9', 's10', 's11', 's12', 's13', 's14', 's15', 's16', 's17', 's18', 's19', 's20', 's21', 's22', 's23', 's24', 's25', 's26', 's27', 's28', 's29', 's30', 's31', 's32', 's33', 's34', 's35', 's36', 's37', 's38', 's39', 's40', 's41', 's42', 's43', 's44', 's45', 's46', 's47', 's48', 's49', 's50', 's51', 's52', 's53']\n"
     ]
    }
   ],
   "source": [
    "scenes = ['s' + str(i) for i in range(54)]\n",
    "print(scenes)"
   ]
  },
  {
   "cell_type": "code",
   "execution_count": 6,
   "metadata": {},
   "outputs": [
    {
     "data": {
      "text/plain": [
       "['s3', 's1', 's11', 's2', 's6', 's0', 's34', 's13']"
      ]
     },
     "execution_count": 6,
     "metadata": {},
     "output_type": "execute_result"
    }
   ],
   "source": [
    "# shuffle scenes so that images from the same unity environment are spread out \n",
    "random.shuffle(scenes)\n",
    "\n",
    "scenes[0:8]"
   ]
  },
  {
   "cell_type": "code",
   "execution_count": 7,
   "metadata": {},
   "outputs": [
    {
     "name": "stdout",
     "output_type": "stream",
     "text": [
      "['s3_1x', 's1_1.3x', 's11_0.75x', 's2_1.3x', 's6_1x', 's0_0.75x', 's34_0.75x', 's13_1.3x', 's14_1x', 's47_1.3x', 's29_0.75x', 's28_1x', 's48_0.75x', 's19_1.3x', 's21_1x', 's8_1x', 's27_0.75x', 's15_1.3x', 's4_0.75x', 's35_1x', 's49_1.3x', 's7_1x', 's20_0.75x', 's31_1.3x', 's33_1.3x', 's52_1x', 's32_0.75x', 's18_1.3x', 's39_0.75x', 's51_1x', 's43_0.75x', 's24_1.3x', 's10_1x', 's36_1x', 's40_0.75x', 's41_1.3x', 's45_0.75x', 's23_1x', 's26_1.3x', 's12_1x', 's30_0.75x', 's16_1.3x', 's17_1.3x', 's5_1x', 's37_0.75x', 's46_1x', 's22_1.3x', 's42_0.75x', 's25_1.3x', 's50_1x', 's53_0.75x', 's38_0.75x', 's9_1.3x', 's44_1x']\n"
     ]
    }
   ],
   "source": [
    "# create the sequences with the scene name based off of the latin square \n",
    "sequences = {}\n",
    "# row number\n",
    "for row_num, row in enumerate(latin_square):\n",
    "    for i in range(3):\n",
    "        seq = []\n",
    "        order = orders[i]\n",
    "        for count, ele in enumerate(row):\n",
    "            seq.append(scenes[ele-1] + '_' + str(order[count]) + 'x')\n",
    "        seq_name = 'seq' + str(row_num) + '_' + str(i)\n",
    "        sequences[seq_name] = seq\n",
    "\n",
    "# 'seq0_0' - the first 0 refers to the sequence of which there are 54 (54 rows in the latin square), the second 0 refers to the order of which there are 3 (0, 1, 2)\n",
    "# in total there are 54 sequences (0-53) and each one is presented at each order (0, 1, 2)\n",
    "print(sequences['seq0_2'])"
   ]
  },
  {
   "cell_type": "code",
   "execution_count": 8,
   "metadata": {},
   "outputs": [
    {
     "data": {
      "text/plain": [
       "'s13_1.3x_2.4_313.png'"
      ]
     },
     "execution_count": 8,
     "metadata": {},
     "output_type": "execute_result"
    }
   ],
   "source": [
    "# Need to get the full image name that includes the depth, and target pixel \n",
    "# imagename_ref contains the portion of the image name in the sequence (above) and the full image name\n",
    "folder_path = '/Users/prachimahableshwarkar/Documents/GW/FacialAge/FacialAge_MTurk/BNav_EC2/DepthDuration/familiarSizeVE_MTurk/VR_target_stimuli'\n",
    "\n",
    "file_names = [f for f in os.listdir(folder_path) if os.path.isfile(os.path.join(folder_path, f))]\n",
    "\n",
    "imagename_ref = {}\n",
    "for file_name in file_names:\n",
    "    if 'png' in file_name:\n",
    "        imagename_ref[file_name.split('_')[0] + '_' + file_name.split('_')[1]] = file_name\n",
    "\n",
    "imagename_ref['s13_1.3x']"
   ]
  },
  {
   "cell_type": "code",
   "execution_count": 9,
   "metadata": {},
   "outputs": [],
   "source": [
    "sequences_completeImageNames = {}\n",
    "\n",
    "for seq in sequences:\n",
    "    updated_seq = []\n",
    "    for trial_image in sequences[seq]:\n",
    "        updated_seq.append(imagename_ref[trial_image])\n",
    "    sequences_completeImageNames[seq] = updated_seq\n",
    "        "
   ]
  },
  {
   "cell_type": "code",
   "execution_count": 10,
   "metadata": {},
   "outputs": [
    {
     "data": {
      "text/plain": [
       "['s3_0.75x', 's1_1x', 's11_1.3x', 's2_1x', 's6_0.75x']"
      ]
     },
     "execution_count": 10,
     "metadata": {},
     "output_type": "execute_result"
    }
   ],
   "source": [
    "sequences['seq0_0'][:5]"
   ]
  },
  {
   "cell_type": "code",
   "execution_count": 11,
   "metadata": {},
   "outputs": [
    {
     "data": {
      "text/plain": [
       "['s3_0.75x_5_381.png',\n",
       " 's1_1x_1.7_262.png',\n",
       " 's11_1.3x_5_363.png',\n",
       " 's2_1x_2.7_390.png',\n",
       " 's6_0.75x_2.1_290.png']"
      ]
     },
     "execution_count": 11,
     "metadata": {},
     "output_type": "execute_result"
    }
   ],
   "source": [
    "sequences_completeImageNames['seq0_0'][:5]"
   ]
  },
  {
   "cell_type": "code",
   "execution_count": 12,
   "metadata": {},
   "outputs": [
    {
     "data": {
      "text/plain": [
       "(162, 162)"
      ]
     },
     "execution_count": 12,
     "metadata": {},
     "output_type": "execute_result"
    }
   ],
   "source": [
    "len(sequences_completeImageNames), 54 * 3"
   ]
  },
  {
   "cell_type": "code",
   "execution_count": 13,
   "metadata": {},
   "outputs": [],
   "source": [
    "sequences_dicts_for_jsons = {}\n",
    "\n",
    "durations = [125, 250, 1000]\n",
    "\n",
    "for seq in sequences_completeImageNames:\n",
    "    for dur in durations:\n",
    "        complete_sequence = []\n",
    "        for count, trial in enumerate(sequences_completeImageNames[seq]):\n",
    "                trial_dict = {}\n",
    "                trial_dict['sequence'] = seq + '_VE' + str(dur)\n",
    "                trial_dict['image'] = trial\n",
    "                trial_dict['duration'] = dur\n",
    "                trial_dict['scene'] = trial.split('_')[0]\n",
    "                trial_dict['num'] = count\n",
    "#                 print(trial)\n",
    "                trial_dict['depth'] = float(trial.split('_')[2])\n",
    "                trial_dict['scale'] = trial.split('_')[1]\n",
    "                # transform ypos based on the actual size of the image (height = 1680)\n",
    "                height = 1680\n",
    "                trial_dict['ypos'] = int(trial.split('_')[3][:-4])\n",
    "                \n",
    "                trial_dict['image_path_target'] = 'VR_target_stimuli/' + trial\n",
    "                trial_dict['mask_path'] = 'masks/' + 'mask_' + str(count) + '.jpg'\n",
    "                trial_dict['fixation_path'] = 'fixation.jpg'\n",
    "                complete_sequence.append(trial_dict)\n",
    "        sequences_dicts_for_jsons[seq + '_VE' + str(dur)] = complete_sequence\n"
   ]
  },
  {
   "cell_type": "code",
   "execution_count": 14,
   "metadata": {},
   "outputs": [
    {
     "name": "stdout",
     "output_type": "stream",
     "text": [
      "486 486\n",
      "{'sequence': 'seq0_0_VE125', 'image': 's3_0.75x_5_381.png', 'duration': 125, 'scene': 's3', 'num': 0, 'depth': 5.0, 'scale': '0.75x', 'ypos': 381, 'image_path_target': 'VR_target_stimuli/s3_0.75x_5_381.png', 'mask_path': 'masks/mask_0.jpg', 'fixation_path': 'fixation.jpg'}\n"
     ]
    }
   ],
   "source": [
    "print(len(sequences_dicts_for_jsons), 54 * 3 * 3)\n",
    "print(sequences_dicts_for_jsons['seq0_0_VE125'][0])\n",
    "# print(sequences_dicts_for_jsons.keys())\n",
    "\n"
   ]
  },
  {
   "cell_type": "code",
   "execution_count": 15,
   "metadata": {},
   "outputs": [],
   "source": [
    "final_sequences = copy.deepcopy(sequences_dicts_for_jsons)"
   ]
  },
  {
   "cell_type": "markdown",
   "metadata": {},
   "source": [
    "## Add catch trials"
   ]
  },
  {
   "cell_type": "code",
   "execution_count": 16,
   "metadata": {},
   "outputs": [],
   "source": [
    "# 54 total trials\n",
    "# 6 catch trials\n",
    "catch_trial_positions = [6, 16, 25, 33, 44, 52]\n",
    "# diff = 10, 9, 8, 11, 8"
   ]
  },
  {
   "cell_type": "code",
   "execution_count": 17,
   "metadata": {},
   "outputs": [],
   "source": [
    "all_catch_stim = ['c0.png', 'c1.png', 'c2.png', 'c3.png', 'c4.png', 'c5.png']\n",
    "catch_trials_125 = []\n",
    "\n",
    "for count, stim in enumerate(all_catch_stim):\n",
    "    c_trial = {}\n",
    "    c_trial['sequence'] = 'catch_trial'\n",
    "    c_trial['image'] = stim\n",
    "    \n",
    "    c_trial['duration'] = 125\n",
    "    \n",
    "    c_trial['scene'] = 'NA'\n",
    "    c_trial['num'] = count\n",
    "    c_trial['depth'] = 'NA'\n",
    "    c_trial['scale'] = 'NA'\n",
    "    # have the image at center since there is no target\n",
    "    ypos = 840//2\n",
    "    c_trial['ypos'] = ypos\n",
    "                \n",
    "    c_trial['image_path_target'] = 'catch_stimuli/' + stim\n",
    "    c_trial['mask_path'] = 'masks/' + 'mask_' + str(count) + '.jpg'\n",
    "    c_trial['fixation_path'] = 'fixation.jpg'\n",
    "    catch_trials_125.append(c_trial)\n",
    "    \n",
    "catch_trials_250 = []\n",
    "\n",
    "for count, stim in enumerate(all_catch_stim):\n",
    "    c_trial = {}\n",
    "    c_trial['sequence'] = 'catch_trial'\n",
    "    c_trial['image'] = stim\n",
    "    \n",
    "    c_trial['duration'] = 250\n",
    "    \n",
    "    c_trial['scene'] = 'NA'\n",
    "    c_trial['num'] = count\n",
    "    c_trial['depth'] = 'NA'\n",
    "    c_trial['scale'] = 'NA'\n",
    "    # have the image at center since there is no target\n",
    "    ypos = 840//2\n",
    "    c_trial['ypos'] = ypos\n",
    "                \n",
    "    c_trial['image_path_target'] = 'catch_stimuli/' + stim\n",
    "    c_trial['mask_path'] = 'masks/' + 'mask_' + str(count) + '.jpg'\n",
    "    c_trial['fixation_path'] = 'fixation.jpg'\n",
    "    catch_trials_250.append(c_trial)\n",
    "    \n",
    "catch_trials_1000 = []\n",
    "\n",
    "for count, stim in enumerate(all_catch_stim):\n",
    "    c_trial = {}\n",
    "    c_trial['sequence'] = 'catch_trial'\n",
    "    c_trial['image'] = stim\n",
    "    \n",
    "    c_trial['duration'] = 1000\n",
    "    \n",
    "    c_trial['scene'] = 'NA'\n",
    "    c_trial['num'] = count\n",
    "    c_trial['depth'] = 'NA'\n",
    "    c_trial['scale'] = 'NA'\n",
    "    # have the image at center since there is no target\n",
    "    ypos = 840//2\n",
    "    c_trial['ypos'] = ypos\n",
    "                \n",
    "    c_trial['image_path_target'] = 'catch_stimuli/' + stim\n",
    "    c_trial['mask_path'] = 'masks/' + 'mask_' + str(count) + '.jpg'\n",
    "    c_trial['fixation_path'] = 'fixation.jpg'\n",
    "    catch_trials_1000.append(c_trial)\n"
   ]
  },
  {
   "cell_type": "code",
   "execution_count": 18,
   "metadata": {},
   "outputs": [
    {
     "data": {
      "text/plain": [
       "(6,\n",
       " {'sequence': 'catch_trial',\n",
       "  'image': 'c0.png',\n",
       "  'duration': 125,\n",
       "  'scene': 'NA',\n",
       "  'num': 0,\n",
       "  'depth': 'NA',\n",
       "  'scale': 'NA',\n",
       "  'ypos': 420,\n",
       "  'image_path_target': 'catch_stimuli/c0.png',\n",
       "  'mask_path': 'masks/mask_0.jpg',\n",
       "  'fixation_path': 'fixation.jpg'})"
      ]
     },
     "execution_count": 18,
     "metadata": {},
     "output_type": "execute_result"
    }
   ],
   "source": [
    "len(catch_trials_125), catch_trials_125[0]"
   ]
  },
  {
   "cell_type": "code",
   "execution_count": 19,
   "metadata": {},
   "outputs": [],
   "source": [
    "cdur_ref = {'125':catch_trials_125, '250':catch_trials_250, '1000':catch_trials_1000}"
   ]
  },
  {
   "cell_type": "code",
   "execution_count": 20,
   "metadata": {},
   "outputs": [],
   "source": [
    "sequences_with_catchTrials = {}\n",
    "for seqName in final_sequences:\n",
    "    sequence = final_sequences[seqName]\n",
    "    seq_duration = seqName.split('_')[-1][2:]\n",
    "    catch_trials = cdur_ref[seq_duration]\n",
    "    for i, position in enumerate(catch_trial_positions):\n",
    "        # insert catch trial into the sequence at the position \n",
    "        sequence.insert(position, catch_trials[i])\n",
    "    sequences_with_catchTrials[seqName] = sequence\n",
    "    "
   ]
  },
  {
   "cell_type": "code",
   "execution_count": null,
   "metadata": {},
   "outputs": [],
   "source": []
  },
  {
   "cell_type": "code",
   "execution_count": 21,
   "metadata": {},
   "outputs": [
    {
     "data": {
      "text/plain": [
       "[{'sequence': 'seq0_0_VE1000',\n",
       "  'image': 's22_1x_4.29_354.png',\n",
       "  'duration': 1000,\n",
       "  'scene': 's22',\n",
       "  'num': 46,\n",
       "  'depth': 4.29,\n",
       "  'scale': '1x',\n",
       "  'ypos': 354,\n",
       "  'image_path_target': 'VR_target_stimuli/s22_1x_4.29_354.png',\n",
       "  'mask_path': 'masks/mask_46.jpg',\n",
       "  'fixation_path': 'fixation.jpg'},\n",
       " {'sequence': 'catch_trial',\n",
       "  'image': 'c5.png',\n",
       "  'duration': 1000,\n",
       "  'scene': 'NA',\n",
       "  'num': 5,\n",
       "  'depth': 'NA',\n",
       "  'scale': 'NA',\n",
       "  'ypos': 420,\n",
       "  'image_path_target': 'catch_stimuli/c5.png',\n",
       "  'mask_path': 'masks/mask_5.jpg',\n",
       "  'fixation_path': 'fixation.jpg'}]"
      ]
     },
     "execution_count": 21,
     "metadata": {},
     "output_type": "execute_result"
    }
   ],
   "source": [
    "# catch_trial_positions = [6, 16, 25, 33, 44, 52]\n",
    "\n",
    "sequences_with_catchTrials['seq0_0_VE1000'][51:53]\n"
   ]
  },
  {
   "cell_type": "code",
   "execution_count": 22,
   "metadata": {},
   "outputs": [
    {
     "data": {
      "text/plain": [
       "(60, 60, 486, 486)"
      ]
     },
     "execution_count": 22,
     "metadata": {},
     "output_type": "execute_result"
    }
   ],
   "source": [
    "len(sequences_with_catchTrials['seq0_0_VE1000']), 54 + 6, len(sequences_with_catchTrials), 54 * 3 * 3"
   ]
  },
  {
   "cell_type": "markdown",
   "metadata": {},
   "source": [
    "## Save sequences as jsons"
   ]
  },
  {
   "cell_type": "code",
   "execution_count": 23,
   "metadata": {},
   "outputs": [],
   "source": [
    "dest = '/Users/prachimahableshwarkar/Documents/GW/FacialAge/FacialAge_MTurk/BNav_EC2/DepthDuration/familiarSizeVE_MTurk/jsons/'\n",
    "for seq in sequences_with_catchTrials:\n",
    "    with open(dest + seq + \".json\", \"w\") as outfile:\n",
    "        json.dump(sequences_with_catchTrials[seq], outfile)"
   ]
  },
  {
   "cell_type": "code",
   "execution_count": null,
   "metadata": {},
   "outputs": [],
   "source": []
  },
  {
   "cell_type": "markdown",
   "metadata": {},
   "source": [
    "# Make practice sequence"
   ]
  },
  {
   "cell_type": "code",
   "execution_count": 68,
   "metadata": {},
   "outputs": [],
   "source": [
    "file_names = ['p1_1x_4_304.png', 'p2_1.3x_3_371.png', 'p3_0.75x_1.4_278.png', 'c3.png']\n",
    "\n",
    "practice_sequence = []\n",
    "for count, trial in enumerate(file_names):\n",
    "    if trial != 'c3.png':\n",
    "        trial_dict = {}\n",
    "        trial_dict['sequence'] = 'practice'\n",
    "        trial_dict['image'] = trial\n",
    "        trial_dict['duration'] = 250\n",
    "        trial_dict['scene'] = trial.split('_')[0]\n",
    "        trial_dict['num'] = count\n",
    "        trial_dict['depth'] = float(trial.split('_')[2])\n",
    "        trial_dict['scale'] = trial.split('_')[1]\n",
    "        trial_dict['ypos'] = int(trial.split('_')[3][:-4])\n",
    "        trial_dict['image_path_target'] = 'VR_PracticeStimuli/' + trial\n",
    "        trial_dict['mask_path'] = 'masks/' + 'mask_' + str(count) + '.jpg'\n",
    "        trial_dict['fixation_path'] = 'fixation.jpg'\n",
    "        practice_sequence.append(trial_dict)\n",
    "    else:\n",
    "        trial_dict = {}\n",
    "        trial_dict['sequence'] = 'practice'\n",
    "        trial_dict['image'] = trial\n",
    "        trial_dict['duration'] = 250\n",
    "        trial_dict['scene'] = 'c3'\n",
    "        trial_dict['num'] = count\n",
    "        trial_dict['depth'] = 0\n",
    "        trial_dict['scale'] = '0'\n",
    "        trial_dict['ypos'] = 420\n",
    "        trial_dict['image_path_target'] = 'VR_PracticeStimuli/' + trial\n",
    "        trial_dict['mask_path'] = 'masks/' + 'mask_' + str(count) + '.jpg'\n",
    "        trial_dict['fixation_path'] = 'fixation.jpg'\n",
    "        practice_sequence.append(trial_dict)"
   ]
  },
  {
   "cell_type": "code",
   "execution_count": 69,
   "metadata": {},
   "outputs": [
    {
     "data": {
      "text/plain": [
       "[{'sequence': 'practice',\n",
       "  'image': 'p1_1x_4_304.png',\n",
       "  'duration': 250,\n",
       "  'scene': 'p1',\n",
       "  'num': 0,\n",
       "  'depth': 4.0,\n",
       "  'scale': '1x',\n",
       "  'ypos': 304,\n",
       "  'image_path_target': 'VR_PracticeStimuli/p1_1x_4_304.png',\n",
       "  'mask_path': 'masks/mask_0.jpg',\n",
       "  'fixation_path': 'fixation.jpg'},\n",
       " {'sequence': 'practice',\n",
       "  'image': 'p2_1.3x_3_371.png',\n",
       "  'duration': 250,\n",
       "  'scene': 'p2',\n",
       "  'num': 1,\n",
       "  'depth': 3.0,\n",
       "  'scale': '1.3x',\n",
       "  'ypos': 371,\n",
       "  'image_path_target': 'VR_PracticeStimuli/p2_1.3x_3_371.png',\n",
       "  'mask_path': 'masks/mask_1.jpg',\n",
       "  'fixation_path': 'fixation.jpg'},\n",
       " {'sequence': 'practice',\n",
       "  'image': 'p3_0.75x_1.4_278.png',\n",
       "  'duration': 250,\n",
       "  'scene': 'p3',\n",
       "  'num': 2,\n",
       "  'depth': 1.4,\n",
       "  'scale': '0.75x',\n",
       "  'ypos': 278,\n",
       "  'image_path_target': 'VR_PracticeStimuli/p3_0.75x_1.4_278.png',\n",
       "  'mask_path': 'masks/mask_2.jpg',\n",
       "  'fixation_path': 'fixation.jpg'},\n",
       " {'sequence': 'practice',\n",
       "  'image': 'c3.png',\n",
       "  'duration': 250,\n",
       "  'scene': 'c3',\n",
       "  'num': 3,\n",
       "  'depth': 0,\n",
       "  'scale': '0',\n",
       "  'ypos': 420,\n",
       "  'image_path_target': 'VR_PracticeStimuli/c3.png',\n",
       "  'mask_path': 'masks/mask_3.jpg',\n",
       "  'fixation_path': 'fixation.jpg'}]"
      ]
     },
     "execution_count": 69,
     "metadata": {},
     "output_type": "execute_result"
    }
   ],
   "source": [
    "practice_sequence"
   ]
  },
  {
   "cell_type": "code",
   "execution_count": 60,
   "metadata": {},
   "outputs": [],
   "source": [
    "# with open(\"practice_sequence.json\", \"w\") as outfile:\n",
    "#         json.dump(practice_sequence, outfile)"
   ]
  },
  {
   "cell_type": "code",
   "execution_count": 70,
   "metadata": {},
   "outputs": [],
   "source": [
    "import json\n",
    "with open(\"/Users/prachimahableshwarkar/Documents/GW/FacialAge/FacialAge_MTurk/BNav_EC2/DepthDuration/familiarSizeVE_MTurk/practice_sequence.json\", \"w\") as outfile:\n",
    "        json.dump(practice_sequence, outfile)"
   ]
  },
  {
   "cell_type": "markdown",
   "metadata": {},
   "source": [
    "# Make Counterbalancing CSV"
   ]
  },
  {
   "cell_type": "code",
   "execution_count": 62,
   "metadata": {},
   "outputs": [],
   "source": [
    "import os\n",
    "import csv "
   ]
  },
  {
   "cell_type": "code",
   "execution_count": 63,
   "metadata": {},
   "outputs": [],
   "source": [
    "jsons_path = '/Users/prachimahableshwarkar/Documents/GW/FacialAge/FacialAge_MTurk/BNav_EC2/DepthDuration/familiarSizeVE_MTurk/jsons'\n"
   ]
  },
  {
   "cell_type": "code",
   "execution_count": 64,
   "metadata": {},
   "outputs": [],
   "source": [
    "paths = []\n",
    "for json in os.listdir(jsons_path):\n",
    "    if '.json' in json:\n",
    "        paths.append({'Path':'jsons/' + json, 'Sampled': 0})"
   ]
  },
  {
   "cell_type": "code",
   "execution_count": 65,
   "metadata": {},
   "outputs": [],
   "source": [
    "# csv header\n",
    "fieldnames = ['Path', 'Sampled']\n",
    "\n",
    "# csv data\n",
    "rows = paths\n",
    "\n",
    "dest = '/Users/prachimahableshwarkar/Documents/GW/FacialAge/FacialAge_MTurk/BNav_EC2/DepthDuration/familiarSizeVE_MTurk/'\n",
    "\n",
    "with open(dest + 'complete_counterbalancing.csv', 'w', encoding='UTF8', newline='') as f:\n",
    "    writer = csv.DictWriter(f, fieldnames=fieldnames)\n",
    "    writer.writeheader()\n",
    "    writer.writerows(rows)"
   ]
  },
  {
   "cell_type": "code",
   "execution_count": 66,
   "metadata": {},
   "outputs": [],
   "source": [
    "paths_250ms = []\n",
    "for json in os.listdir(jsons_path):\n",
    "    if 'VE250' in json:\n",
    "        paths_250ms.append({'Path':'jsons/' + json, 'Sampled': 0})"
   ]
  },
  {
   "cell_type": "code",
   "execution_count": 67,
   "metadata": {},
   "outputs": [],
   "source": [
    "# csv header\n",
    "fieldnames = ['Path', 'Sampled']\n",
    "\n",
    "# csv data\n",
    "rows = paths_250ms\n",
    "\n",
    "dest = '/Users/prachimahableshwarkar/Documents/GW/FacialAge/FacialAge_MTurk/BNav_EC2/DepthDuration/familiarSizeVE_MTurk/'\n",
    "\n",
    "with open(dest + 'counterbalancing.csv', 'w', encoding='UTF8', newline='') as f:\n",
    "    writer = csv.DictWriter(f, fieldnames=fieldnames)\n",
    "    writer.writeheader()\n",
    "    writer.writerows(rows)"
   ]
  },
  {
   "cell_type": "code",
   "execution_count": null,
   "metadata": {},
   "outputs": [],
   "source": []
  },
  {
   "cell_type": "code",
   "execution_count": null,
   "metadata": {},
   "outputs": [],
   "source": []
  }
 ],
 "metadata": {
  "kernelspec": {
   "display_name": "Python 3",
   "language": "python",
   "name": "python3"
  },
  "language_info": {
   "codemirror_mode": {
    "name": "ipython",
    "version": 3
   },
   "file_extension": ".py",
   "mimetype": "text/x-python",
   "name": "python",
   "nbconvert_exporter": "python",
   "pygments_lexer": "ipython3",
   "version": "3.7.5"
  }
 },
 "nbformat": 4,
 "nbformat_minor": 4
}
