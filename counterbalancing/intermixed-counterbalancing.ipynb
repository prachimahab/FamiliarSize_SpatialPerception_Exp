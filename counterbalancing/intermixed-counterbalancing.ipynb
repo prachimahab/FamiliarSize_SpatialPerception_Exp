{
 "cells": [
  {
   "cell_type": "markdown",
   "metadata": {},
   "source": [
    "# Make intermixed (obj mask + familiar) counterbalanced sequences\n",
    "\n",
    "These sequences are used in the final pre-registered experiment: https://osf.io/2uqz7"
   ]
  },
  {
   "cell_type": "code",
   "execution_count": 2,
   "metadata": {},
   "outputs": [],
   "source": [
    "import itertools\n",
    "import numpy as np\n",
    "import json \n",
    "import os\n",
    "import random\n",
    "import copy"
   ]
  },
  {
   "cell_type": "markdown",
   "metadata": {},
   "source": [
    "## Read in existing sequences"
   ]
  },
  {
   "cell_type": "code",
   "execution_count": 198,
   "metadata": {},
   "outputs": [],
   "source": [
    "js_path = '/Users/prachimahableshwarkar/Documents/GW/FacialAge/FacialAge_MTurk/BNav_EC2/DepthDuration/familiarSizeVE_MTurk/jsons'\n",
    "\n",
    "og_sequences = {}\n",
    "for seq in os.listdir(js_path):\n",
    "    if 'VE250' in seq:\n",
    "        file_path = js_path + '/' + seq\n",
    "        # Reading the JSON data\n",
    "        with open(file_path, 'r') as file:\n",
    "            data = json.load(file)\n",
    "            # remove catch trials from the sequence \n",
    "            fdata = [item for item in data if item['scale'] != 'NA'] \n",
    "            og_sequences[seq] = fdata\n"
   ]
  },
  {
   "cell_type": "code",
   "execution_count": 109,
   "metadata": {},
   "outputs": [
    {
     "data": {
      "text/plain": [
       "54"
      ]
     },
     "execution_count": 109,
     "metadata": {},
     "output_type": "execute_result"
    }
   ],
   "source": [
    "tseq = og_sequences['seq16_0_VE250.json']\n",
    "\n",
    "len(tseq)"
   ]
  },
  {
   "cell_type": "code",
   "execution_count": 110,
   "metadata": {},
   "outputs": [
    {
     "data": {
      "text/plain": [
       "{'sequence': 'seq16_0_VE250',\n",
       " 'image': 's27_0.75x_1.76_243.png',\n",
       " 'duration': 250,\n",
       " 'scene': 's27',\n",
       " 'num': 0,\n",
       " 'depth': 1.76,\n",
       " 'scale': '0.75x',\n",
       " 'ypos': 243,\n",
       " 'image_path_target': 'VR_target_stimuli/s27_0.75x_1.76_243.png',\n",
       " 'mask_path': 'masks/mask_0.jpg',\n",
       " 'fixation_path': 'fixation.jpg'}"
      ]
     },
     "execution_count": 110,
     "metadata": {},
     "output_type": "execute_result"
    }
   ],
   "source": [
    "tseq_subset = tseq[0:18]\n",
    "tseq_subset[0]"
   ]
  },
  {
   "cell_type": "markdown",
   "metadata": {},
   "source": [
    "## Create intermixed sequences"
   ]
  },
  {
   "cell_type": "code",
   "execution_count": 199,
   "metadata": {},
   "outputs": [],
   "source": [
    "def get_scale_indeces(seq_subset):\n",
    "    indeces = {'0.75x': [], '1x': [], '1.3x': []}\n",
    "    for index, trial in enumerate(seq_subset):\n",
    "        scale = trial['scale']\n",
    "        indeces[scale].append(index)\n",
    "\n",
    "    return indeces\n",
    "\n",
    "def update_subset(seq_subset, size):\n",
    "    indeces = get_scale_indeces(seq_subset)\n",
    "    for scale in indeces:\n",
    "        # select three of the six elements to be made BC images\n",
    "        BC_indeces = random.sample(indeces[scale], size//len(indeces)//2)\n",
    "        for idx in BC_indeces:\n",
    "            og_image = seq_subset[idx]['image']\n",
    "            seq_subset[idx]['image'] = og_image.split('.png')[0] + '_BC.png'\n",
    "            og_target_path = seq_subset[idx]['image_path_target']\n",
    "            seq_subset[idx]['image_path_target'] = og_target_path.split('.png')[0] + '_BC.png'\n",
    "\n",
    "    return seq_subset\n",
    "\n",
    "def create_mixed_sequence(seq, num_trials, size):\n",
    "    new_seq = []\n",
    "    for start in range(0, num_trials, size):\n",
    "        end = start + size\n",
    "        subset_trials = copy.deepcopy(seq[start:end])\n",
    "        new_subset = update_subset(subset_trials, size)\n",
    "        new_seq += new_subset\n",
    "\n",
    "    return new_seq\n",
    "\n",
    "def main(og_sequences_dict, num_trials, size):\n",
    "    new_sequences = {}\n",
    "    for seq_name in og_sequences_dict:\n",
    "        new_sequences['MX_'+seq_name] = create_mixed_sequence(og_sequences_dict[seq_name], num_trials, size)\n",
    "\n",
    "    return new_sequences\n"
   ]
  },
  {
   "cell_type": "code",
   "execution_count": 200,
   "metadata": {},
   "outputs": [],
   "source": [
    "num_blocks = 9\n",
    "num_trials = 54\n",
    "size = int(num_trials/num_blocks)\n",
    "\n",
    "new_sequences = main(og_sequences, num_trials, size)\n",
    "\n",
    "# x = new_tseq[48:]\n",
    "# for trial in x:\n",
    "#     print(trial['image'])"
   ]
  },
  {
   "cell_type": "code",
   "execution_count": null,
   "metadata": {},
   "outputs": [],
   "source": []
  },
  {
   "cell_type": "code",
   "execution_count": 201,
   "metadata": {},
   "outputs": [
    {
     "name": "stdout",
     "output_type": "stream",
     "text": [
      "162\n",
      "162\n"
     ]
    },
    {
     "data": {
      "text/plain": [
       "(None, None)"
      ]
     },
     "execution_count": 201,
     "metadata": {},
     "output_type": "execute_result"
    }
   ],
   "source": [
    "print(len(new_sequences)), print(len(set(new_sequences.keys())))"
   ]
  },
  {
   "cell_type": "markdown",
   "metadata": {},
   "source": [
    "### Rename the sequence name within each trial"
   ]
  },
  {
   "cell_type": "code",
   "execution_count": 202,
   "metadata": {},
   "outputs": [],
   "source": [
    "renamed_sequences = copy.deepcopy(new_sequences)\n",
    "for seq in renamed_sequences:\n",
    "    for trial in renamed_sequences[seq]:\n",
    "        og_name = trial['sequence']\n",
    "        trial['sequence'] = 'MX_' + og_name\n"
   ]
  },
  {
   "cell_type": "code",
   "execution_count": null,
   "metadata": {},
   "outputs": [],
   "source": []
  },
  {
   "cell_type": "markdown",
   "metadata": {},
   "source": [
    "## Add Catch Trials"
   ]
  },
  {
   "cell_type": "code",
   "execution_count": 203,
   "metadata": {},
   "outputs": [],
   "source": [
    "catch_trial_positions = [6, 16, 25, 33, 44, 52]"
   ]
  },
  {
   "cell_type": "code",
   "execution_count": 204,
   "metadata": {},
   "outputs": [
    {
     "data": {
      "text/plain": [
       "(6,\n",
       " {'sequence': 'catch_trial',\n",
       "  'image': 'c0.png',\n",
       "  'duration': 250,\n",
       "  'scene': 'NA',\n",
       "  'num': 0,\n",
       "  'depth': 'NA',\n",
       "  'scale': 'NA',\n",
       "  'ypos': 420,\n",
       "  'image_path_target': 'catch_stimuli/c0.png',\n",
       "  'mask_path': 'masks/mask_0.jpg',\n",
       "  'fixation_path': 'fixation.jpg'})"
      ]
     },
     "execution_count": 204,
     "metadata": {},
     "output_type": "execute_result"
    }
   ],
   "source": [
    "all_catch_stim = ['c0.png', 'c1.png', 'c2.png', 'c3.png', 'c4.png', 'c5.png']\n",
    "\n",
    "catch_trials_250 = []\n",
    "\n",
    "for count, stim in enumerate(all_catch_stim):\n",
    "    c_trial = {}\n",
    "    c_trial['sequence'] = 'catch_trial'\n",
    "    c_trial['image'] = stim\n",
    "    \n",
    "    c_trial['duration'] = 250\n",
    "    \n",
    "    c_trial['scene'] = 'NA'\n",
    "    c_trial['num'] = count\n",
    "    c_trial['depth'] = 'NA'\n",
    "    c_trial['scale'] = 'NA'\n",
    "    # have the image at center since there is no target\n",
    "    ypos = 840//2\n",
    "    c_trial['ypos'] = ypos\n",
    "                \n",
    "    c_trial['image_path_target'] = 'catch_stimuli/' + stim\n",
    "    c_trial['mask_path'] = 'masks/' + 'mask_' + str(count) + '.jpg'\n",
    "    c_trial['fixation_path'] = 'fixation.jpg'\n",
    "    catch_trials_250.append(c_trial)\n",
    "\n",
    "len(catch_trials_250), catch_trials_250[0]"
   ]
  },
  {
   "cell_type": "code",
   "execution_count": 205,
   "metadata": {},
   "outputs": [],
   "source": [
    "sequences_with_catchTrials = {}\n",
    "for seqName in renamed_sequences:\n",
    "    sequence = renamed_sequences[seqName]\n",
    "    for i, position in enumerate(catch_trial_positions):\n",
    "        # insert catch trial into the sequence at the position \n",
    "        sequence.insert(position, catch_trials_250[i])\n",
    "    sequences_with_catchTrials[seqName] = sequence"
   ]
  },
  {
   "cell_type": "code",
   "execution_count": 206,
   "metadata": {},
   "outputs": [
    {
     "data": {
      "text/plain": [
       "[{'sequence': 'MX_seq0_0_VE250',\n",
       "  'image': 's22_1x_4.29_354_BC.png',\n",
       "  'duration': 250,\n",
       "  'scene': 's22',\n",
       "  'num': 46,\n",
       "  'depth': 4.29,\n",
       "  'scale': '1x',\n",
       "  'ypos': 354,\n",
       "  'image_path_target': 'VR_target_stimuli/s22_1x_4.29_354_BC.png',\n",
       "  'mask_path': 'masks/mask_46.jpg',\n",
       "  'fixation_path': 'fixation.jpg'},\n",
       " {'sequence': 'catch_trial',\n",
       "  'image': 'c5.png',\n",
       "  'duration': 250,\n",
       "  'scene': 'NA',\n",
       "  'num': 5,\n",
       "  'depth': 'NA',\n",
       "  'scale': 'NA',\n",
       "  'ypos': 420,\n",
       "  'image_path_target': 'catch_stimuli/c5.png',\n",
       "  'mask_path': 'masks/mask_5.jpg',\n",
       "  'fixation_path': 'fixation.jpg'}]"
      ]
     },
     "execution_count": 206,
     "metadata": {},
     "output_type": "execute_result"
    }
   ],
   "source": [
    "sequences_with_catchTrials['MX_seq0_0_VE250.json'][51:53]\n"
   ]
  },
  {
   "cell_type": "code",
   "execution_count": 207,
   "metadata": {},
   "outputs": [
    {
     "name": "stdout",
     "output_type": "stream",
     "text": [
      "True\n"
     ]
    },
    {
     "data": {
      "text/plain": [
       "['s27_0.75x_1.76_243', '.png']"
      ]
     },
     "execution_count": 207,
     "metadata": {},
     "output_type": "execute_result"
    }
   ],
   "source": [
    "d = \"s27_0.75x_1.76_243_BC.png\"\n",
    "if '_BC' in d:\n",
    "    print(True)\n",
    "\n",
    "d.split('_BC')"
   ]
  },
  {
   "cell_type": "markdown",
   "metadata": {},
   "source": [
    "## Create flipped sequences: BC --> normal, normal --> BC"
   ]
  },
  {
   "cell_type": "code",
   "execution_count": 208,
   "metadata": {},
   "outputs": [],
   "source": [
    "\n",
    "def flip_assignment(seq):\n",
    "    flipped_seq = copy.deepcopy(seq)\n",
    "    for trial in flipped_seq:\n",
    "        og_image = trial['image']\n",
    "        og_target_path = trial['image_path_target']\n",
    "        if '_BC' in trial['image']:\n",
    "            trial['image'] = og_image.split('_BC')[0] + '.png'\n",
    "            trial['image_path_target'] = og_target_path.split('_BC')[0] + '.png'\n",
    "        else:\n",
    "            trial['image'] = og_image.split('.png')[0] + '_BC.png'\n",
    "            trial['image_path_target'] = og_target_path.split('.png')[0] + '_BC.png'\n",
    "\n",
    "        og_seqName = trial['sequence']\n",
    "        trial['sequence'] = og_seqName + '_flipped'\n",
    "\n",
    "    return flipped_seq\n",
    "\n",
    "def main_flipped(og_seqs):\n",
    "    flipped_sequences = {}\n",
    "    for seq in og_seqs:\n",
    "        f_seq = flip_assignment(og_seqs[seq])\n",
    "        flipped_sequences[seq.split('.json')[0] + '_flipped.json'] = f_seq\n",
    "\n",
    "    return flipped_sequences"
   ]
  },
  {
   "cell_type": "code",
   "execution_count": 209,
   "metadata": {},
   "outputs": [],
   "source": [
    "all_flipped_seqs = main_flipped(sequences_with_catchTrials)"
   ]
  },
  {
   "cell_type": "code",
   "execution_count": 210,
   "metadata": {},
   "outputs": [
    {
     "data": {
      "text/plain": [
       "('s11_1.3x_5_363_BC.png', 's11_1.3x_5_363.png')"
      ]
     },
     "execution_count": 210,
     "metadata": {},
     "output_type": "execute_result"
    }
   ],
   "source": [
    "all_flipped_seqs['MX_seq0_0_VE250_flipped.json'][2]['image'], sequences_with_catchTrials['MX_seq0_0_VE250.json'][2]['image']"
   ]
  },
  {
   "cell_type": "code",
   "execution_count": 211,
   "metadata": {},
   "outputs": [
    {
     "data": {
      "text/plain": [
       "(162, 162)"
      ]
     },
     "execution_count": 211,
     "metadata": {},
     "output_type": "execute_result"
    }
   ],
   "source": [
    "len(set(all_flipped_seqs.keys())), len(set(sequences_with_catchTrials.keys()))\n"
   ]
  },
  {
   "cell_type": "markdown",
   "metadata": {},
   "source": [
    "## Save sequences as jsons"
   ]
  },
  {
   "cell_type": "code",
   "execution_count": 212,
   "metadata": {},
   "outputs": [],
   "source": [
    "import json\n",
    "dest = '/Users/prachimahableshwarkar/Documents/GW/FacialAge/FacialAge_MTurk/BNav_EC2/DepthDuration/MX_fS_VE_MTurk/jsons/'\n",
    "\n",
    "for seq in all_flipped_seqs:\n",
    "    with open(dest + seq, \"w\") as outfile:\n",
    "        json.dump(all_flipped_seqs[seq], outfile)\n",
    "\n",
    "for seq in sequences_with_catchTrials:\n",
    "    with open(dest + seq, \"w\") as outfile:\n",
    "        json.dump(sequences_with_catchTrials[seq], outfile)"
   ]
  },
  {
   "cell_type": "markdown",
   "metadata": {},
   "source": [
    "# Make Counterbalancing CSV"
   ]
  },
  {
   "cell_type": "code",
   "execution_count": 191,
   "metadata": {},
   "outputs": [],
   "source": [
    "import os\n",
    "import csv "
   ]
  },
  {
   "cell_type": "code",
   "execution_count": 192,
   "metadata": {},
   "outputs": [],
   "source": [
    "jsons_path = '/Users/prachimahableshwarkar/Documents/GW/FacialAge/FacialAge_MTurk/BNav_EC2/DepthDuration/MX_fS_VE_MTurk/jsons'\n"
   ]
  },
  {
   "cell_type": "code",
   "execution_count": 193,
   "metadata": {},
   "outputs": [],
   "source": [
    "paths = []\n",
    "for json in os.listdir(jsons_path):\n",
    "    if '.json' in json:\n",
    "        paths.append({'Path':'jsons/' + json, 'Sampled': 0})"
   ]
  },
  {
   "cell_type": "code",
   "execution_count": 194,
   "metadata": {},
   "outputs": [],
   "source": [
    "# csv header\n",
    "fieldnames = ['Path', 'Sampled']\n",
    "\n",
    "# csv data\n",
    "rows = paths\n",
    "\n",
    "dest = '/Users/prachimahableshwarkar/Documents/GW/FacialAge/FacialAge_MTurk/BNav_EC2/DepthDuration/MX_fS_VE_MTurk/'\n",
    "\n",
    "with open(dest + 'counterbalancing.csv', 'w', encoding='UTF8', newline='') as f:\n",
    "    writer = csv.DictWriter(f, fieldnames=fieldnames)\n",
    "    writer.writeheader()\n",
    "    writer.writerows(rows)"
   ]
  },
  {
   "cell_type": "markdown",
   "metadata": {},
   "source": [
    "## Check"
   ]
  },
  {
   "cell_type": "code",
   "execution_count": 217,
   "metadata": {},
   "outputs": [],
   "source": [
    "path = '/Users/prachimahableshwarkar/Documents/GW/FacialAge/FacialAge_MTurk/BNav_EC2/DepthDuration/MX_fS_VE_MTurk/jsons'\n",
    "\n",
    "for seq in os.listdir(path):\n",
    "    if '.json' in seq:\n",
    "        file_path = path + '/' + seq\n",
    "        # Reading the JSON data\n",
    "        with open(file_path, 'r') as file:\n",
    "            data = json.load(file)\n",
    "            BC_count = {'0.75x': 0, '1x': 0, '1.3x': 0, 'NA': 0}\n",
    "            reg_cont = {'0.75x': 0, '1x': 0, '1.3x': 0, 'NA': 0}\n",
    "            for trial in data:\n",
    "                if '_BC' in trial['image']:\n",
    "                    BC_count[trial['scale']] += 1\n",
    "                else:\n",
    "                    reg_cont[trial['scale']] += 1\n"
   ]
  },
  {
   "cell_type": "code",
   "execution_count": 218,
   "metadata": {},
   "outputs": [
    {
     "data": {
      "text/plain": [
       "{'0.75x': 9, '1x': 9, '1.3x': 9, 'NA': 6}"
      ]
     },
     "execution_count": 218,
     "metadata": {},
     "output_type": "execute_result"
    }
   ],
   "source": [
    "BC_count"
   ]
  },
  {
   "cell_type": "code",
   "execution_count": 219,
   "metadata": {},
   "outputs": [
    {
     "data": {
      "text/plain": [
       "{'0.75x': 9, '1x': 9, '1.3x': 9, 'NA': 0}"
      ]
     },
     "execution_count": 219,
     "metadata": {},
     "output_type": "execute_result"
    }
   ],
   "source": [
    "reg_cont"
   ]
  },
  {
   "cell_type": "code",
   "execution_count": null,
   "metadata": {},
   "outputs": [],
   "source": []
  }
 ],
 "metadata": {
  "kernelspec": {
   "display_name": "Python 3",
   "language": "python",
   "name": "python3"
  },
  "language_info": {
   "codemirror_mode": {
    "name": "ipython",
    "version": 3
   },
   "file_extension": ".py",
   "mimetype": "text/x-python",
   "name": "python",
   "nbconvert_exporter": "python",
   "pygments_lexer": "ipython3",
   "version": "3.7.5"
  }
 },
 "nbformat": 4,
 "nbformat_minor": 4
}
