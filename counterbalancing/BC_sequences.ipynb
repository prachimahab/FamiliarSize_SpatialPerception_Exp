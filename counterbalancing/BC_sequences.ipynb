{
 "cells": [
  {
   "cell_type": "markdown",
   "metadata": {},
   "source": [
    "# Counterbalanced sequences for objMask presentation \n"
   ]
  },
  {
   "cell_type": "code",
   "execution_count": 1,
   "metadata": {},
   "outputs": [],
   "source": [
    "import json \n",
    "import os\n",
    "import copy"
   ]
  },
  {
   "cell_type": "code",
   "execution_count": 2,
   "metadata": {},
   "outputs": [],
   "source": [
    "src = '/Users/prachimahableshwarkar/Documents/GW/FacialAge/FacialAge_MTurk/BNav_EC2/DepthDuration/familiarSizeVE_MTurk/jsons'\n",
    "\n",
    "dest = '/Users/prachimahableshwarkar/Documents/GW/FacialAge/FacialAge_MTurk/BNav_EC2/DepthDuration/objMask_familiarSizeVE_MTurk/jsons/'\n"
   ]
  },
  {
   "cell_type": "code",
   "execution_count": 10,
   "metadata": {},
   "outputs": [
    {
     "data": {
      "text/plain": [
       "'VR_target_stimuli/s4_0.75x_1.4_301_BC.png'"
      ]
     },
     "execution_count": 10,
     "metadata": {},
     "output_type": "execute_result"
    }
   ],
   "source": [
    "x = 'VR_target_stimuli/s4_0.75x_1.4_301.png'\n",
    "\n",
    "x[:-4] + '_BC.png'"
   ]
  },
  {
   "cell_type": "markdown",
   "metadata": {},
   "source": []
  },
  {
   "cell_type": "code",
   "execution_count": 3,
   "metadata": {},
   "outputs": [],
   "source": [
    "for js in os.listdir(src):\n",
    "    if 'json' in js:\n",
    "        with open(src + '/' + js, 'r') as f:\n",
    "            seq = json.load(f)\n",
    "            new_seq = copy.deepcopy(seq)\n",
    "            for trial in new_seq:\n",
    "                BC_image_name = trial['image'][:-4] + '_BC.png'\n",
    "                trial['image'] = BC_image_name\n",
    "                BC_new_image_path = trial['image_path_target'][:-4] + '_BC.png'\n",
    "                trial['image_path_target'] = BC_new_image_path\n",
    "                BC_sequence_name = trial['sequence'] + '_BC'\n",
    "                trial['sequence'] = BC_sequence_name\n",
    "                                \n",
    "            j_dest = dest + 'BC_' + js\n",
    "            with open(j_dest, 'w') as f:\n",
    "                json.dump(new_seq , f)\n",
    "\n",
    "            "
   ]
  },
  {
   "cell_type": "code",
   "execution_count": 34,
   "metadata": {},
   "outputs": [],
   "source": [
    "# new_seq"
   ]
  },
  {
   "cell_type": "markdown",
   "metadata": {},
   "source": [
    "# Make Counterbalancing CSV"
   ]
  },
  {
   "cell_type": "code",
   "execution_count": 20,
   "metadata": {},
   "outputs": [],
   "source": [
    "import os\n",
    "import csv "
   ]
  },
  {
   "cell_type": "code",
   "execution_count": 22,
   "metadata": {},
   "outputs": [],
   "source": [
    "jsons_path = '/Users/prachimahableshwarkar/Documents/GW/FacialAge/FacialAge_MTurk/BNav_EC2/DepthDuration/objMask_familiarSizeVE_MTurk/jsons'"
   ]
  },
  {
   "cell_type": "code",
   "execution_count": 23,
   "metadata": {},
   "outputs": [],
   "source": [
    "paths = []\n",
    "for json in os.listdir(jsons_path):\n",
    "    if '.json' in json:\n",
    "        paths.append({'Path':'jsons/' + json, 'Sampled': 0})"
   ]
  },
  {
   "cell_type": "code",
   "execution_count": 24,
   "metadata": {},
   "outputs": [],
   "source": [
    "# csv header\n",
    "fieldnames = ['Path', 'Sampled']\n",
    "\n",
    "# csv data\n",
    "rows = paths\n",
    "\n",
    "dest = '/Users/prachimahableshwarkar/Documents/GW/FacialAge/FacialAge_MTurk/BNav_EC2/DepthDuration/objMask_familiarSizeVE_MTurk/'\n",
    "\n",
    "with open(dest + 'complete_counterbalancing.csv', 'w', encoding='UTF8', newline='') as f:\n",
    "    writer = csv.DictWriter(f, fieldnames=fieldnames)\n",
    "    writer.writeheader()\n",
    "    writer.writerows(rows)"
   ]
  },
  {
   "cell_type": "code",
   "execution_count": 25,
   "metadata": {},
   "outputs": [],
   "source": [
    "paths_250ms = []\n",
    "for json in os.listdir(jsons_path):\n",
    "    if 'VE250' in json:\n",
    "        paths_250ms.append({'Path':'jsons/' + json, 'Sampled': 0})"
   ]
  },
  {
   "cell_type": "code",
   "execution_count": 26,
   "metadata": {},
   "outputs": [],
   "source": [
    "# csv header\n",
    "fieldnames = ['Path', 'Sampled']\n",
    "\n",
    "# csv data\n",
    "rows = paths_250ms\n",
    "\n",
    "dest = '/Users/prachimahableshwarkar/Documents/GW/FacialAge/FacialAge_MTurk/BNav_EC2/DepthDuration/objMask_familiarSizeVE_MTurk/'\n",
    "\n",
    "with open(dest + 'counterbalancing.csv', 'w', encoding='UTF8', newline='') as f:\n",
    "    writer = csv.DictWriter(f, fieldnames=fieldnames)\n",
    "    writer.writeheader()\n",
    "    writer.writerows(rows)"
   ]
  },
  {
   "cell_type": "markdown",
   "metadata": {},
   "source": [
    "## Make Practice Sequence"
   ]
  },
  {
   "cell_type": "code",
   "execution_count": 28,
   "metadata": {},
   "outputs": [],
   "source": [
    "file_names = ['p1_1x_4_304_BC.png', 'p2_1.3x_3_371_BC.png', 'p3_0.75x_1.4_278_BC.png', 'c3.png']\n",
    "\n",
    "practice_sequence = []\n",
    "for count, trial in enumerate(file_names):\n",
    "    if trial != 'c3.png':\n",
    "        trial_dict = {}\n",
    "        trial_dict['sequence'] = 'practice_BC'\n",
    "        trial_dict['image'] = trial\n",
    "        trial_dict['duration'] = 250\n",
    "        trial_dict['scene'] = trial.split('_')[0]\n",
    "        trial_dict['num'] = count\n",
    "        trial_dict['depth'] = float(trial.split('_')[2])\n",
    "        trial_dict['scale'] = trial.split('_')[1]\n",
    "        trial_dict['ypos'] = int(trial.split('_')[3])\n",
    "        trial_dict['image_path_target'] = 'VR_PracticeStimuli/' + trial\n",
    "        trial_dict['mask_path'] = 'masks/' + 'mask_' + str(count) + '.jpg'\n",
    "        trial_dict['fixation_path'] = 'fixation.jpg'\n",
    "        practice_sequence.append(trial_dict)\n",
    "    else:\n",
    "        trial_dict = {}\n",
    "        trial_dict['sequence'] = 'practice_BC'\n",
    "        trial_dict['image'] = trial\n",
    "        trial_dict['duration'] = 250\n",
    "        trial_dict['scene'] = 'c3'\n",
    "        trial_dict['num'] = count\n",
    "        trial_dict['depth'] = 0\n",
    "        trial_dict['scale'] = '0'\n",
    "        trial_dict['ypos'] = 420\n",
    "        trial_dict['image_path_target'] = 'VR_PracticeStimuli/' + trial\n",
    "        trial_dict['mask_path'] = 'masks/' + 'mask_' + str(count) + '.jpg'\n",
    "        trial_dict['fixation_path'] = 'fixation.jpg'\n",
    "        practice_sequence.append(trial_dict)"
   ]
  },
  {
   "cell_type": "code",
   "execution_count": 29,
   "metadata": {},
   "outputs": [
    {
     "data": {
      "text/plain": [
       "[{'sequence': 'practice_BC',\n",
       "  'image': 'p1_1x_4_304_BC.png',\n",
       "  'duration': 250,\n",
       "  'scene': 'p1',\n",
       "  'num': 0,\n",
       "  'depth': 4.0,\n",
       "  'scale': '1x',\n",
       "  'ypos': 304,\n",
       "  'image_path_target': 'VR_PracticeStimuli/p1_1x_4_304_BC.png',\n",
       "  'mask_path': 'masks/mask_0.jpg',\n",
       "  'fixation_path': 'fixation.jpg'},\n",
       " {'sequence': 'practice_BC',\n",
       "  'image': 'p2_1.3x_3_371_BC.png',\n",
       "  'duration': 250,\n",
       "  'scene': 'p2',\n",
       "  'num': 1,\n",
       "  'depth': 3.0,\n",
       "  'scale': '1.3x',\n",
       "  'ypos': 371,\n",
       "  'image_path_target': 'VR_PracticeStimuli/p2_1.3x_3_371_BC.png',\n",
       "  'mask_path': 'masks/mask_1.jpg',\n",
       "  'fixation_path': 'fixation.jpg'},\n",
       " {'sequence': 'practice_BC',\n",
       "  'image': 'p3_0.75x_1.4_278_BC.png',\n",
       "  'duration': 250,\n",
       "  'scene': 'p3',\n",
       "  'num': 2,\n",
       "  'depth': 1.4,\n",
       "  'scale': '0.75x',\n",
       "  'ypos': 278,\n",
       "  'image_path_target': 'VR_PracticeStimuli/p3_0.75x_1.4_278_BC.png',\n",
       "  'mask_path': 'masks/mask_2.jpg',\n",
       "  'fixation_path': 'fixation.jpg'},\n",
       " {'sequence': 'practice_BC',\n",
       "  'image': 'c3.png',\n",
       "  'duration': 250,\n",
       "  'scene': 'c3',\n",
       "  'num': 3,\n",
       "  'depth': 0,\n",
       "  'scale': '0',\n",
       "  'ypos': 420,\n",
       "  'image_path_target': 'VR_PracticeStimuli/c3.png',\n",
       "  'mask_path': 'masks/mask_3.jpg',\n",
       "  'fixation_path': 'fixation.jpg'}]"
      ]
     },
     "execution_count": 29,
     "metadata": {},
     "output_type": "execute_result"
    }
   ],
   "source": [
    "practice_sequence"
   ]
  },
  {
   "cell_type": "code",
   "execution_count": null,
   "metadata": {},
   "outputs": [],
   "source": []
  },
  {
   "cell_type": "code",
   "execution_count": 31,
   "metadata": {},
   "outputs": [],
   "source": [
    "import json\n",
    "with open(\"/Users/prachimahableshwarkar/Documents/GW/FacialAge/FacialAge_MTurk/BNav_EC2/DepthDuration/objMask_familiarSizeVE_MTurk/practice_sequence.json\", \"w\") as outfile:\n",
    "        json.dump(practice_sequence, outfile)"
   ]
  },
  {
   "cell_type": "code",
   "execution_count": null,
   "metadata": {},
   "outputs": [],
   "source": []
  }
 ],
 "metadata": {
  "kernelspec": {
   "display_name": "Python 3",
   "language": "python",
   "name": "python3"
  },
  "language_info": {
   "codemirror_mode": {
    "name": "ipython",
    "version": 3
   },
   "file_extension": ".py",
   "mimetype": "text/x-python",
   "name": "python",
   "nbconvert_exporter": "python",
   "pygments_lexer": "ipython3",
   "version": "3.7.5"
  }
 },
 "nbformat": 4,
 "nbformat_minor": 4
}
